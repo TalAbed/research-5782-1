{
 "cells": [
  {
   "cell_type": "markdown",
   "metadata": {},
   "source": [
    "# exercise 1"
   ]
  },
  {
   "cell_type": "markdown",
   "metadata": {},
   "source": [
    "## Code"
   ]
  },
  {
   "cell_type": "code",
   "execution_count": 4,
   "metadata": {},
   "outputs": [],
   "source": [
    "# The function get another funtions f and some arguments. It treats the arguments as dictionary (using the **).\n",
    "# The function goes over all the arguments and make sure that if they have a annotations, it is the right one (as f expects).\n",
    "\n",
    "def safe_call(f, **args):\n",
    "    for key, value in args.items():\n",
    "        if key in f.__annotations__:\n",
    "            if f.__annotations__[key] != value.__class__:\n",
    "                raise Exception (\"Wrong args!\")\n",
    "    return f(**args)\n",
    "\n",
    "def sum (x:int, y:float, z):\n",
    "    return x+y+z\n",
    "\n",
    "def doublePrint(s:str):\n",
    "    return s+s"
   ]
  },
  {
   "cell_type": "markdown",
   "metadata": {},
   "source": [
    "## Running Samples"
   ]
  },
  {
   "cell_type": "code",
   "execution_count": 10,
   "metadata": {},
   "outputs": [
    {
     "name": "stdout",
     "output_type": "stream",
     "text": [
      "15.0\n"
     ]
    }
   ],
   "source": [
    "ans = safe_call(sum, x=5, y=7.0, z=3)\n",
    "print(ans)"
   ]
  },
  {
   "cell_type": "code",
   "execution_count": 12,
   "metadata": {},
   "outputs": [
    {
     "name": "stdout",
     "output_type": "stream",
     "text": [
      "Wrong args\n"
     ]
    }
   ],
   "source": [
    "try:\n",
    "    ans = safe_call(sum, x=5, y=\"abc\", z=3)\n",
    "    print(ans)\n",
    "except:\n",
    "    print(\"Wrong args\")"
   ]
  },
  {
   "cell_type": "code",
   "execution_count": 13,
   "metadata": {},
   "outputs": [
    {
     "name": "stdout",
     "output_type": "stream",
     "text": [
      "hh\n"
     ]
    }
   ],
   "source": [
    "ans = safe_call(doublePrint, s=\"h\")\n",
    "print(ans)"
   ]
  },
  {
   "cell_type": "code",
   "execution_count": 14,
   "metadata": {},
   "outputs": [
    {
     "name": "stdout",
     "output_type": "stream",
     "text": [
      "Wrong args\n"
     ]
    }
   ],
   "source": [
    "try:\n",
    "    ans = safe_call(doublePrint, s=3)\n",
    "    print(ans)\n",
    "except:\n",
    "    print(\"Wrong args\")"
   ]
  },
  {
   "cell_type": "markdown",
   "metadata": {},
   "source": [
    "## Tests"
   ]
  },
  {
   "cell_type": "code",
   "execution_count": 15,
   "metadata": {},
   "outputs": [],
   "source": [
    "assert (safe_call(sum,x=8, y=2.6, z=4)== 14.6)\n",
    "assert (safe_call(sum,x=1, y=7.0, z=4.4)== 12.4)\n",
    "assert (safe_call(doublePrint, s=\"a\")== \"aa\")\n",
    "assert (safe_call(doublePrint, s=\"ab\")== \"abab\")"
   ]
  }
 ],
 "metadata": {
  "interpreter": {
   "hash": "5e00cd03ab671ba4a51c5b060530d245c0e059b462a0bb3c7cee5b0e9a4ce6e1"
  },
  "kernelspec": {
   "display_name": "Python 3.8.5 ('base')",
   "language": "python",
   "name": "python3"
  },
  "language_info": {
   "codemirror_mode": {
    "name": "ipython",
    "version": 3
   },
   "file_extension": ".py",
   "mimetype": "text/x-python",
   "name": "python",
   "nbconvert_exporter": "python",
   "pygments_lexer": "ipython3",
   "version": "3.8.5"
  },
  "orig_nbformat": 4
 },
 "nbformat": 4,
 "nbformat_minor": 2
}
