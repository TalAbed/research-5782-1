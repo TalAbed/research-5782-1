{
 "cells": [
  {
   "cell_type": "markdown",
   "metadata": {},
   "source": [
    "# Exercise 3"
   ]
  },
  {
   "cell_type": "markdown",
   "metadata": {},
   "source": [
    "## Code"
   ]
  },
  {
   "cell_type": "code",
   "execution_count": 2,
   "metadata": {},
   "outputs": [],
   "source": [
    "from scipy import misc"
   ]
  },
  {
   "cell_type": "code",
   "execution_count": 3,
   "metadata": {},
   "outputs": [],
   "source": [
    "THREHHOLD = 0.0001\n",
    "def find_root(f, a, b):\n",
    "    while abs(a-b)>THREHHOLD:\n",
    "        b=a\n",
    "        d = misc.derivative(f, b)\n",
    "        a = b-f(b)/d\n",
    "    return a"
   ]
  },
  {
   "cell_type": "markdown",
   "metadata": {},
   "source": [
    "## Running Samples"
   ]
  },
  {
   "cell_type": "code",
   "execution_count": 4,
   "metadata": {},
   "outputs": [
    {
     "name": "stdout",
     "output_type": "stream",
     "text": [
      "2.000000000000002\n"
     ]
    }
   ],
   "source": [
    "po = find_root(lambda x: x**2-4, 1, 3)\n",
    "print(po)"
   ]
  },
  {
   "cell_type": "code",
   "execution_count": 5,
   "metadata": {},
   "outputs": [
    {
     "name": "stdout",
     "output_type": "stream",
     "text": [
      "0.0\n"
     ]
    }
   ],
   "source": [
    "po = find_root(lambda x: x, -1, 1)\n",
    "print(po)"
   ]
  },
  {
   "cell_type": "code",
   "execution_count": 17,
   "metadata": {},
   "outputs": [
    {
     "name": "stdout",
     "output_type": "stream",
     "text": [
      "-3.000000000000001\n"
     ]
    }
   ],
   "source": [
    "po = find_root(lambda x: x**2+4*x+3, -4, -2)\n",
    "print(po)"
   ]
  },
  {
   "cell_type": "code",
   "execution_count": 18,
   "metadata": {},
   "outputs": [
    {
     "name": "stdout",
     "output_type": "stream",
     "text": [
      "2.0000022446445653\n"
     ]
    }
   ],
   "source": [
    "po = find_root(lambda x: x**3+x**2-4*x-4, 1, 3)\n",
    "print(po)"
   ]
  },
  {
   "cell_type": "markdown",
   "metadata": {},
   "source": [
    "## Tests"
   ]
  },
  {
   "cell_type": "code",
   "execution_count": 19,
   "metadata": {},
   "outputs": [],
   "source": [
    "assert(find_root(lambda x: x**2-4, 1, 3)-2<0.0001)\n",
    "assert(find_root(lambda x: x, -1, 1)<0.0001)\n",
    "assert(find_root(lambda x: x**2+4*x+3, -4, -2)+3<0.0001)\n",
    "assert(find_root(lambda x: x**3+x**2-4*x-4, 1, 3)-2<0.0001)"
   ]
  }
 ],
 "metadata": {
  "interpreter": {
   "hash": "5e00cd03ab671ba4a51c5b060530d245c0e059b462a0bb3c7cee5b0e9a4ce6e1"
  },
  "kernelspec": {
   "display_name": "Python 3.8.5 ('base')",
   "language": "python",
   "name": "python3"
  },
  "language_info": {
   "codemirror_mode": {
    "name": "ipython",
    "version": 3
   },
   "file_extension": ".py",
   "mimetype": "text/x-python",
   "name": "python",
   "nbconvert_exporter": "python",
   "pygments_lexer": "ipython3",
   "version": "3.8.5"
  },
  "orig_nbformat": 4
 },
 "nbformat": 4,
 "nbformat_minor": 2
}
