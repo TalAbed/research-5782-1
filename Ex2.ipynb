{
 "cells": [
  {
   "cell_type": "markdown",
   "metadata": {},
   "source": [
    "# Exercise 2"
   ]
  },
  {
   "cell_type": "markdown",
   "metadata": {},
   "source": [
    "## Code"
   ]
  },
  {
   "cell_type": "code",
   "execution_count": 1,
   "metadata": {},
   "outputs": [],
   "source": [
    "import collections"
   ]
  },
  {
   "cell_type": "code",
   "execution_count": 2,
   "metadata": {},
   "outputs": [],
   "source": [
    "# The function get some struct (s). It using recursion.\n",
    "# if s is not iterable or it is a string, it be printed\n",
    "# else, the function check what type of struct s is, sorting it, and print the parenthesis that goes with it.\n",
    "# in addition is sends every value in the struct to the function (so if it is another struct it will be sorting also).\n",
    "# If the struct can't be well sorting it will be sorting by Strings.\n",
    "\n",
    "def print_sorted(s):\n",
    "    # stop condition - if s is not iterable or it is a string\n",
    "    if not hasattr(s, '__iter__') or s.__class__ == \"\".__class__:\n",
    "        print(s, end=\",\")\n",
    "    else:\n",
    "        ## if s is dictionary\n",
    "        if s.__class__ == dict:\n",
    "            print('{', end='')\n",
    "            try: #if can be sort\n",
    "                s = collections.OrderedDict(sorted(s.items())).items()\n",
    "                for k, v in s:\n",
    "                    print('\"',k,'\"', end = ':')\n",
    "                    print_sorted(v)\n",
    "            except: #if can't be sort\n",
    "                s = collections.OrderedDict(sorted(s.items(), key = lambda x: str(x))).items()\n",
    "                for k, v in s:\n",
    "                    print('\"',k,'\"', end = ':')\n",
    "                    print_sorted(v)\n",
    "            print('}', end = ',')\n",
    "        # if s is list\n",
    "        elif s.__class__ == list:\n",
    "            print('[', end = '')\n",
    "            try: #if can be sort\n",
    "                for v in sorted(s):\n",
    "                    print_sorted(v)\n",
    "            except: #if can't be sort\n",
    "                for v in sorted(s, key = lambda x: str(x)):\n",
    "                    print_sorted(v)\n",
    "            print(']', end=',')\n",
    "        # if s is tuple\n",
    "        elif s.__class__ == tuple:\n",
    "            print('(', end = '')\n",
    "            try: #if can be sort\n",
    "                for v in sorted(s):\n",
    "                    print_sorted(v)\n",
    "            except: #if can't be sort\n",
    "                for v in sorted(s, key = lambda x: str(x)):\n",
    "                    print_sorted(v)\n",
    "            print(')', end=',')\n",
    "        # if s is set\n",
    "        elif s.__class__ == set:\n",
    "            print('{', end = '')\n",
    "            try: #if can be sort\n",
    "                for v in sorted(s):\n",
    "                    print_sorted(v)\n",
    "            except: #if can't be sort\n",
    "                for v in sorted(s, key = lambda x: str(x)):\n",
    "                    print_sorted(v)\n",
    "            print('}', end=',')"
   ]
  },
  {
   "cell_type": "markdown",
   "metadata": {},
   "source": [
    "## Running Samples"
   ]
  },
  {
   "cell_type": "code",
   "execution_count": 3,
   "metadata": {},
   "outputs": [
    {
     "name": "stdout",
     "output_type": "stream",
     "text": [
      "[4,5,41,],"
     ]
    }
   ],
   "source": [
    "w = [4,41,5]\n",
    "print_sorted(w)"
   ]
  },
  {
   "cell_type": "code",
   "execution_count": 4,
   "metadata": {},
   "outputs": [
    {
     "name": "stdout",
     "output_type": "stream",
     "text": [
      "{\" a \":5,\" b \":{(1,2,),4,5,},\" c \":6,},"
     ]
    }
   ],
   "source": [
    "x = {\"a\": 5, \"c\": 6, \"b\":{5,(1,2),4}}\n",
    "print_sorted(x)"
   ]
  },
  {
   "cell_type": "code",
   "execution_count": 5,
   "metadata": {},
   "outputs": [
    {
     "name": "stdout",
     "output_type": "stream",
     "text": [
      "[1,4,5,6,8,9,],"
     ]
    }
   ],
   "source": [
    "y = [1,5,4,8,6,9]\n",
    "print_sorted(y)"
   ]
  },
  {
   "cell_type": "code",
   "execution_count": 6,
   "metadata": {},
   "outputs": [
    {
     "name": "stdout",
     "output_type": "stream",
     "text": [
      "(1,[1,2,5,],ab,{\" a \":3,\" b \":7,\" c \":5,},),"
     ]
    }
   ],
   "source": [
    "z = (\"ab\", {\"a\":3, \"c\":5, \"b\":7}, [1,5,2], \"1\")\n",
    "print_sorted(z)"
   ]
  }
 ],
 "metadata": {
  "interpreter": {
   "hash": "5e00cd03ab671ba4a51c5b060530d245c0e059b462a0bb3c7cee5b0e9a4ce6e1"
  },
  "kernelspec": {
   "display_name": "Python 3.8.5 ('base')",
   "language": "python",
   "name": "python3"
  },
  "language_info": {
   "codemirror_mode": {
    "name": "ipython",
    "version": 3
   },
   "file_extension": ".py",
   "mimetype": "text/x-python",
   "name": "python",
   "nbconvert_exporter": "python",
   "pygments_lexer": "ipython3",
   "version": "3.8.5"
  },
  "orig_nbformat": 4
 },
 "nbformat": 4,
 "nbformat_minor": 2
}
